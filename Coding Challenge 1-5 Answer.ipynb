{
 "cells": [
  {
   "cell_type": "markdown",
   "metadata": {},
   "source": [
    "`1. Write a function that loops over all strings within the collection passed in, and changes all vowels to a dash.`\n",
    "\n",
    "<strong>Example</strong>: [ \"Bob\", \"Vowel\", \"Hello\" ]\n",
    "<br>\n",
    "<strong>Output</strong>: [ \"B-b\", \"V-w-l\", \"H-ll-\" ]"
   ]
  },
  {
   "cell_type": "code",
   "execution_count": 96,
   "metadata": {},
   "outputs": [],
   "source": [
    "names = [ \"Bob\", \"Vowel\", \"Hello\" ]\n",
    "vowels = ['a', 'e', 'i', 'o', 'u']\n",
    "devoweled_names = []\n",
    "for name in names:\n",
    "    new_name = name\n",
    "    for letter in name:\n",
    "        if letter in vowels:\n",
    "            new_name = new_name.replace(letter, '-')\n",
    "    devoweled_names.append(new_name)"
   ]
  },
  {
   "cell_type": "code",
   "execution_count": 97,
   "metadata": {},
   "outputs": [
    {
     "data": {
      "text/plain": [
       "['B-b', 'V-w-l', 'H-ll-']"
      ]
     },
     "execution_count": 97,
     "metadata": {},
     "output_type": "execute_result"
    }
   ],
   "source": [
    "devoweled_names"
   ]
  },
  {
   "cell_type": "markdown",
   "metadata": {},
   "source": [
    "`2. Write a program which will find all such numbers which are divisible by 7 but are not a multiple of 5, between 2000 and 3200 (both included). The numbers obtained should be printed in a comma-separated sequence on a single line.`"
   ]
  },
  {
   "cell_type": "code",
   "execution_count": 15,
   "metadata": {},
   "outputs": [
    {
     "name": "stdout",
     "output_type": "stream",
     "text": [
      "[2007, 2014, 2021, 2028, 2042, 2049, 2056, 2063, 2077, 2084, 2091, 2098, 2112, 2119, 2126, 2133, 2147, 2154, 2161, 2168, 2182, 2189, 2196, 2203, 2217, 2224, 2231, 2238, 2252, 2259, 2266, 2273, 2287, 2294, 2301, 2308, 2322, 2329, 2336, 2343, 2357, 2364, 2371, 2378, 2392, 2399, 2406, 2413, 2427, 2434, 2441, 2448, 2462, 2469, 2476, 2483, 2497, 2504, 2511, 2518, 2532, 2539, 2546, 2553, 2567, 2574, 2581, 2588, 2602, 2609, 2616, 2623, 2637, 2644, 2651, 2658, 2672, 2679, 2686, 2693, 2707, 2714, 2721, 2728, 2742, 2749, 2756, 2763, 2777, 2784, 2791, 2798, 2812, 2819, 2826, 2833, 2847, 2854, 2861, 2868, 2882, 2889, 2896, 2903, 2917, 2924, 2931, 2938, 2952, 2959, 2966, 2973, 2987, 2994, 3001, 3008, 3022, 3029, 3036, 3043, 3057, 3064, 3071, 3078, 3092, 3099, 3106, 3113, 3127, 3134, 3141, 3148, 3162, 3169, 3176, 3183, 3197]\n"
     ]
    }
   ],
   "source": [
    "list1 = (list(range(2000, 3201, 7)))\n",
    "list2= (list(range(2000, 3201, 5)))\n",
    "\n",
    "list3 = [x for x in list1 if x not in list2]\n",
    "\n",
    "print(list3)"
   ]
  },
  {
   "cell_type": "markdown",
   "metadata": {},
   "source": [
    "`3. Write a program that calculates the number of upper case letters and lower case letters in a sentence.`\n",
    "\n",
    "<strong>Example</strong>: \"Hello world!\"\n",
    "<br>\n",
    "<strong>Output</strong>: <br>\n",
    "UPPER CASE 1\n",
    "<br>\n",
    "LOWER CASE 9"
   ]
  },
  {
   "cell_type": "code",
   "execution_count": 14,
   "metadata": {
    "scrolled": true
   },
   "outputs": [
    {
     "name": "stdout",
     "output_type": "stream",
     "text": [
      "Enter a sentence:Hello\n",
      "UPPER CASE: 1\n",
      "LOWER CASE: 0\n",
      "UPPER CASE: 1\n",
      "LOWER CASE: 1\n",
      "UPPER CASE: 1\n",
      "LOWER CASE: 2\n",
      "UPPER CASE: 1\n",
      "LOWER CASE: 3\n",
      "UPPER CASE: 1\n",
      "LOWER CASE: 4\n"
     ]
    }
   ],
   "source": [
    "def count_case():\n",
    "    sentence = input(\"Enter a sentence:\", )\n",
    "    upper = 0\n",
    "    lower = 0\n",
    "    for _ in sentence:\n",
    "        if (_.islower()):\n",
    "            lower += 1\n",
    "        if (_.isupper()):\n",
    "            upper += 1\n",
    "\n",
    "        print(f\"UPPER CASE: {upper}\")\n",
    "        print(f\"LOWER CASE: {lower}\")\n",
    "        \n",
    "count_case()            "
   ]
  },
  {
   "cell_type": "code",
   "execution_count": 6,
   "metadata": {},
   "outputs": [
    {
     "name": "stdout",
     "output_type": "stream",
     "text": [
      "Enter a sentence:There are 5 numbers\n",
      "LETTERS: 1\n",
      "DIGITS: 0\n",
      "LETTERS: 2\n",
      "DIGITS: 0\n",
      "LETTERS: 3\n",
      "DIGITS: 0\n",
      "LETTERS: 4\n",
      "DIGITS: 0\n",
      "LETTERS: 5\n",
      "DIGITS: 0\n",
      "LETTERS: 5\n",
      "DIGITS: 0\n",
      "LETTERS: 6\n",
      "DIGITS: 0\n",
      "LETTERS: 7\n",
      "DIGITS: 0\n",
      "LETTERS: 8\n",
      "DIGITS: 0\n",
      "LETTERS: 8\n",
      "DIGITS: 0\n",
      "LETTERS: 8\n",
      "DIGITS: 1\n",
      "LETTERS: 8\n",
      "DIGITS: 1\n",
      "LETTERS: 9\n",
      "DIGITS: 1\n",
      "LETTERS: 10\n",
      "DIGITS: 1\n",
      "LETTERS: 11\n",
      "DIGITS: 1\n",
      "LETTERS: 12\n",
      "DIGITS: 1\n",
      "LETTERS: 13\n",
      "DIGITS: 1\n",
      "LETTERS: 14\n",
      "DIGITS: 1\n",
      "LETTERS: 15\n",
      "DIGITS: 1\n"
     ]
    }
   ],
   "source": [
    "def count_numalpha():\n",
    "    sentence = input(\"Enter a sentence:\", )\n",
    "    letters = 0\n",
    "    digits = 0\n",
    "    for _ in sentence:\n",
    "        if (_.isalpha()):\n",
    "            letters += 1\n",
    "        if (_.isnumeric()):\n",
    "            digits += 1\n",
    "        print(f\"LETTERS: {letters}\")\n",
    "        print(f\"DIGITS: {digits}\")\n",
    "        \n",
    "count_numalpha()"
   ]
  },
  {
   "cell_type": "markdown",
   "metadata": {},
   "source": [
    "`4. Write a program that accepts a sentence and calculate the number of letters and digits.`\n",
    "\n",
    "<strong>Example</strong>: \"hello world! 123\"\n",
    "<br>\n",
    "<strong>Output</strong>:<br>\n",
    "LETTERS 10<br>\n",
    "DIGITS 3"
   ]
  },
  {
   "cell_type": "code",
   "execution_count": 16,
   "metadata": {},
   "outputs": [
    {
     "name": "stdout",
     "output_type": "stream",
     "text": [
      "Enter a sentence:number 4\n",
      "LETTERS: 1\n",
      "DIGITS: 0\n",
      "LETTERS: 2\n",
      "DIGITS: 0\n",
      "LETTERS: 3\n",
      "DIGITS: 0\n",
      "LETTERS: 4\n",
      "DIGITS: 0\n",
      "LETTERS: 5\n",
      "DIGITS: 0\n",
      "LETTERS: 6\n",
      "DIGITS: 0\n",
      "LETTERS: 6\n",
      "DIGITS: 0\n",
      "LETTERS: 6\n",
      "DIGITS: 1\n"
     ]
    }
   ],
   "source": [
    "def count_numalpha():\n",
    "    sentence = input(\"Enter a sentence:\", )\n",
    "    letters = 0\n",
    "    digits = 0\n",
    "    for _ in sentence:\n",
    "        if (_.isalpha()):\n",
    "            letters += 1\n",
    "        if (_.isnumeric()):\n",
    "            digits += 1\n",
    "        print(f\"LETTERS: {letters}\")\n",
    "        print(f\"DIGITS: {digits}\")\n",
    "        \n",
    "count_numalpha()"
   ]
  },
  {
   "cell_type": "markdown",
   "metadata": {},
   "source": [
    "`5. Write a program that creates a pyramid of Xs`\n",
    "\n",
    "<strong>Output</strong>:\n",
    "<br>\n",
    "&nbsp;&nbsp;&nbsp;&nbsp;&nbsp;&nbsp;&nbsp;&nbsp;X<br>\n",
    "&nbsp;&nbsp;&nbsp;&nbsp;&nbsp;&nbsp;XXX<br>\n",
    "&nbsp;&nbsp;&nbsp;&nbsp;XXXXX<br>\n",
    "&nbsp;&nbsp;XXXXXXX<br>\n",
    "XXXXXXXXX<br>"
   ]
  },
  {
   "cell_type": "code",
   "execution_count": 88,
   "metadata": {},
   "outputs": [
    {
     "name": "stdout",
     "output_type": "stream",
     "text": [
      "How many levels would you like to make this pyramid? 5\n",
      "    X\n",
      "   XXX\n",
      "  XXXXX\n",
      " XXXXXXX\n",
      "XXXXXXXXX\n"
     ]
    }
   ],
   "source": [
    "def build_pyramid():\n",
    "    n = int(input(\"How many levels would you like to make this pyramid? \"))\n",
    "    for i in range(n):\n",
    "        print(' ' * (n - i - 1) + 'X' * (2 * i + 1))\n",
    "\n",
    "build_pyramid()"
   ]
  },
  {
   "cell_type": "code",
   "execution_count": null,
   "metadata": {},
   "outputs": [],
   "source": []
  }
 ],
 "metadata": {
  "kernelspec": {
   "display_name": "Python 3",
   "language": "python",
   "name": "python3"
  },
  "language_info": {
   "codemirror_mode": {
    "name": "ipython",
    "version": 3
   },
   "file_extension": ".py",
   "mimetype": "text/x-python",
   "name": "python",
   "nbconvert_exporter": "python",
   "pygments_lexer": "ipython3",
   "version": "3.8.5"
  }
 },
 "nbformat": 4,
 "nbformat_minor": 2
}
